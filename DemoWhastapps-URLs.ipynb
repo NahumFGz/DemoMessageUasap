{
 "cells": [
  {
   "cell_type": "code",
   "execution_count": 2,
   "metadata": {},
   "outputs": [],
   "source": [
    "# Instalar Selenium\n",
    "#!pip install selenium"
   ]
  },
  {
   "cell_type": "code",
   "execution_count": 1,
   "metadata": {},
   "outputs": [],
   "source": [
    "from selenium import webdriver\n",
    "from selenium.webdriver.support.ui import WebDriverWait\n",
    "from selenium.webdriver.support.ui import Select\n",
    "from selenium.webdriver.common.by import By\n",
    "from selenium.webdriver.common.keys import Keys\n",
    "from selenium.webdriver.chrome.options import Options\n",
    "import time\n",
    "\n",
    "import pandas as pd"
   ]
  },
  {
   "cell_type": "markdown",
   "metadata": {},
   "source": [
    "### Descargar y ubicar Chrome Driver\n",
    "Se necesita descargar la última versión estable de ChromeDriver:\n",
    "<br>\n",
    "https://chromedriver.chromium.org/downloads\n",
    "<br>"
   ]
  },
  {
   "cell_type": "code",
   "execution_count": 2,
   "metadata": {},
   "outputs": [
    {
     "name": "stderr",
     "output_type": "stream",
     "text": [
      "H:\\GitHub\\DemoMessageUasap\\venv\\lib\\site-packages\\ipykernel_launcher.py:4: DeprecationWarning: executable_path has been deprecated, please pass in a Service object\n",
      "  after removing the cwd from sys.path.\n"
     ]
    },
    {
     "name": "stdout",
     "output_type": "stream",
     "text": [
      "Escanea el código QR y luego presiona 'Enter'\n",
      "\n",
      "Logueado!\n"
     ]
    }
   ],
   "source": [
    "# Entrar a la página de WhatsApp Web\n",
    "options = Options()\n",
    "options.add_argument(\"--disable-extensions\")\n",
    "driver = webdriver.Chrome(\"./chromedriver.exe\", options=options) # Especificar la ruta del Chrome Driver (en este caso está ubicado en la misma ruta del código)\n",
    "driver.get(\"https://web.whatsapp.com\") \n",
    "\n",
    "# Para escanear el código QR tienes que entrar a \n",
    "# \"Ajustes\" -> Ícono de QR (a la derecha de tu nombre) -> \"Escanear código\" -> \"Vincular dispositivo\"\n",
    "print(\"Escanea el código QR y luego presiona 'Enter'\")\n",
    "input()\n",
    "print(\"Logueado!\")"
   ]
  },
  {
   "cell_type": "code",
   "execution_count": 1,
   "metadata": {},
   "outputs": [
    {
     "ename": "NameError",
     "evalue": "name 'pd' is not defined",
     "output_type": "error",
     "traceback": [
      "\u001b[1;31m---------------------------------------------------------------------------\u001b[0m",
      "\u001b[1;31mNameError\u001b[0m                                 Traceback (most recent call last)",
      "\u001b[1;32m<ipython-input-1-5a7e81d311aa>\u001b[0m in \u001b[0;36m<module>\u001b[1;34m\u001b[0m\n\u001b[0;32m      1\u001b[0m \u001b[1;31m# El archivo debe contener los números de teléfono y variables como su nombre, correo o lo que se considere pertinente en el mensaje\u001b[0m\u001b[1;33m\u001b[0m\u001b[1;33m\u001b[0m\u001b[1;33m\u001b[0m\u001b[0m\n\u001b[1;32m----> 2\u001b[1;33m \u001b[0mdata\u001b[0m \u001b[1;33m=\u001b[0m \u001b[0mpd\u001b[0m\u001b[1;33m.\u001b[0m\u001b[0mread_excel\u001b[0m\u001b[1;33m(\u001b[0m\u001b[1;34m'./Datos.xlsx'\u001b[0m\u001b[1;33m,\u001b[0m \u001b[0msheet_name\u001b[0m\u001b[1;33m=\u001b[0m\u001b[1;34m'Ventas'\u001b[0m\u001b[1;33m)\u001b[0m\u001b[1;33m\u001b[0m\u001b[1;33m\u001b[0m\u001b[0m\n\u001b[0m\u001b[0;32m      3\u001b[0m \u001b[0mdata\u001b[0m\u001b[1;33m\u001b[0m\u001b[1;33m\u001b[0m\u001b[0m\n\u001b[0;32m      4\u001b[0m \u001b[1;33m\u001b[0m\u001b[0m\n\u001b[0;32m      5\u001b[0m \u001b[1;31m# Note: Los números se cambiarán por prevención\u001b[0m\u001b[1;33m\u001b[0m\u001b[1;33m\u001b[0m\u001b[1;33m\u001b[0m\u001b[0m\n",
      "\u001b[1;31mNameError\u001b[0m: name 'pd' is not defined"
     ]
    }
   ],
   "source": [
    "# El archivo debe contener los números de teléfono y variables como su nombre, correo o lo que se considere pertinente en el mensaje\n",
    "data = pd.read_excel('./Datos.xlsx', sheet_name='Ventas')\n",
    "data\n",
    "\n",
    "# Note: Los números se cambiarán por prevención"
   ]
  },
  {
   "cell_type": "code",
   "execution_count": 40,
   "metadata": {},
   "outputs": [],
   "source": [
    "# Abrir URL\n",
    "driver.get(\"https://web.whatsapp.com/send?phone=+9948\") # El número NO existe\n",
    "#driver.get(\"https://web.whatsapp.com/send?phone=+5199\") # El número existe"
   ]
  },
  {
   "cell_type": "code",
   "execution_count": 19,
   "metadata": {},
   "outputs": [
    {
     "name": "stderr",
     "output_type": "stream",
     "text": [
      "H:\\GitHub\\DemoMessageUasap\\venv\\lib\\site-packages\\ipykernel_launcher.py:4: DeprecationWarning: find_element_by_* commands are deprecated. Please use find_element() instead\n",
      "  after removing the cwd from sys.path.\n"
     ]
    }
   ],
   "source": [
    "# Caso 1: El número existe\n",
    "# Ubicar la caja de texto\n",
    "inp_xpath = '//div[@title=\"Escribe un mensaje aquí\"]' \n",
    "input_box = driver.find_element_by_xpath(inp_xpath)\n",
    "time.sleep(2) # Esperar 2 segundos a que cargue\n",
    "\n",
    "# Enviar el mensaje\n",
    "input_box.send_keys(\"test selenium\" + Keys.ENTER)\n",
    "time.sleep(2) # Esperar 2 segundos a que cargue"
   ]
  },
  {
   "cell_type": "code",
   "execution_count": 46,
   "metadata": {},
   "outputs": [
    {
     "name": "stderr",
     "output_type": "stream",
     "text": [
      "H:\\GitHub\\DemoMessageUasap\\venv\\lib\\site-packages\\ipykernel_launcher.py:2: DeprecationWarning: find_elements_by_* commands are deprecated. Please use find_elements() instead\n",
      "  \n"
     ]
    }
   ],
   "source": [
    "# Caso 2: El número NO existe\n",
    "En = driver.find_elements_by_xpath(\"//div[@class='_20C5O _2Zdgs']\")[-1]\n",
    "selected_contact.click()"
   ]
  },
  {
   "cell_type": "code",
   "execution_count": null,
   "metadata": {},
   "outputs": [],
   "source": [
    "# Cerrar ventana de WhatsApp Web al terminar\n",
    "# driver.quit()"
   ]
  }
 ],
 "metadata": {
  "kernelspec": {
   "display_name": "Python 3",
   "language": "python",
   "name": "python3"
  },
  "language_info": {
   "codemirror_mode": {
    "name": "ipython",
    "version": 3
   },
   "file_extension": ".py",
   "mimetype": "text/x-python",
   "name": "python",
   "nbconvert_exporter": "python",
   "pygments_lexer": "ipython3",
   "version": "3.7.6"
  }
 },
 "nbformat": 4,
 "nbformat_minor": 5
}
