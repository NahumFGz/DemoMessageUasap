{
 "cells": [
  {
   "cell_type": "code",
   "execution_count": 2,
   "id": "6680a95e",
   "metadata": {},
   "outputs": [],
   "source": [
    "# Instalar Selenium\n",
    "#!pip install selenium"
   ]
  },
  {
   "cell_type": "code",
   "execution_count": 3,
   "id": "3334bab0",
   "metadata": {},
   "outputs": [],
   "source": [
    "from selenium import webdriver\n",
    "from selenium.webdriver.support.ui import WebDriverWait\n",
    "from selenium.webdriver.support.ui import Select\n",
    "from selenium.webdriver.common.by import By\n",
    "from selenium.webdriver.common.keys import Keys\n",
    "from selenium.webdriver.chrome.options import Options\n",
    "import time\n",
    "\n",
    "import pandas as pd"
   ]
  },
  {
   "cell_type": "markdown",
   "id": "f432bc2f",
   "metadata": {},
   "source": [
    "### Descargar y ubicar Chrome Driver\n",
    "Se necesita descargar la última versión estable de ChromeDriver:\n",
    "<br>\n",
    "https://chromedriver.chromium.org/downloads\n",
    "<br>"
   ]
  },
  {
   "cell_type": "code",
   "execution_count": 4,
   "id": "8ad65447",
   "metadata": {},
   "outputs": [
    {
     "name": "stderr",
     "output_type": "stream",
     "text": [
      "H:\\GitHub\\DemoMessageUasap\\venv\\lib\\site-packages\\ipykernel_launcher.py:4: DeprecationWarning: executable_path has been deprecated, please pass in a Service object\n",
      "  after removing the cwd from sys.path.\n"
     ]
    },
    {
     "name": "stdout",
     "output_type": "stream",
     "text": [
      "Escanea el código QR y luego presiona 'Enter'\n",
      "\n",
      "Logueado!\n"
     ]
    }
   ],
   "source": [
    "# Entrar a la página de WhatsApp Web\n",
    "options = Options()\n",
    "options.add_argument(\"--disable-extensions\")\n",
    "driver = webdriver.Chrome(\"./chromedriver.exe\", options=options) # Especificar la ruta del Chrome Driver (en este caso está ubicado en la misma ruta del código)\n",
    "driver.get(\"https://web.whatsapp.com\") \n",
    "\n",
    "# Para escanear el código QR tienes que entrar a \n",
    "# \"Ajustes\" -> Ícono de QR (a la derecha de tu nombre) -> \"Escanear código\" -> \"Vincular dispositivo\"\n",
    "print(\"Escanea el código QR y luego presiona 'Enter'\")\n",
    "input()\n",
    "print(\"Logueado!\")"
   ]
  },
  {
   "cell_type": "code",
   "execution_count": 31,
   "id": "cad1cbfd",
   "metadata": {},
   "outputs": [],
   "source": [
    "# El archivo debe contener los números de teléfono y variables como su nombre, correo o lo que se considere pertinente en el mensaje\n",
    "data = pd.read_excel('./Datos.xlsx', sheet_name='Ventas')\n",
    "#data\n",
    "\n",
    "# Note: Los números se cambiarán por prevención"
   ]
  },
  {
   "cell_type": "code",
   "execution_count": 30,
   "id": "cd62c408",
   "metadata": {},
   "outputs": [
    {
     "name": "stderr",
     "output_type": "stream",
     "text": [
      "H:\\GitHub\\DemoMessageUasap\\venv\\lib\\site-packages\\ipykernel_launcher.py:26: DeprecationWarning: find_element_by_* commands are deprecated. Please use find_element() instead\n"
     ]
    }
   ],
   "source": [
    "for i in range(len(data)):\n",
    "    # Obtener el celular\n",
    "    celular = data.loc[i, 'Número'].astype(str)\n",
    "    \n",
    "    # Generar la url del contacto\n",
    "    driver.get(\"https://web.whatsapp.com/send?phone=+\" + celular) # El número NO existe\n",
    "    time.sleep(3) # Esperar 3 segundos a que cargue\n",
    "    \n",
    "    # Formar el mensaje personalizado\n",
    "    persona = data.loc[i,'Sobrenombre']\n",
    "    importe = data.loc[i,'Importe'].astype(str) # Convertir a string para que se añada al mensaje\n",
    "    moneda = data.loc[i,'Moneda']\n",
    "    producto = data.loc[i,'Producto']\n",
    "    fecha = data.loc[i,'Fecha de compra'].strftime(\"%m/%d/%Y\") # Convertir a string para que se añada al mensaje\n",
    "    correo = data.loc[i,'Correo']\n",
    "\n",
    "    mensaje = (persona + \"!, gracias por tu compra de \" + importe + \" \" + moneda + \" en \" + producto + \" el día \" + fecha + \" \" + u'\\u263A' + \". \\n \" +\n",
    "              \"Te enviaremos el comprobante de pago a tu correo \" +  correo + \"!\") # Si quieres usar emoji, ten cuenta que\n",
    "                                                                                   # Chrome Driver solo utiliza caracteres BMP\n",
    "                                                                                   # Por ejemplo: 263A es ☺, 2764 es ❤, etc. \n",
    "    \n",
    "    try:\n",
    "        # Caso 1: El número existe\n",
    "        # Ubicar la caja de texto\n",
    "        inp_xpath = '//div[@title=\"Escribe un mensaje aquí\"]' \n",
    "        input_box = driver.find_element_by_xpath(inp_xpath)\n",
    "        time.sleep(2) # Esperar 2 segundos a que cargue\n",
    "\n",
    "        # Enviar el mensaje\n",
    "        input_box.send_keys(mensaje + Keys.ENTER)\n",
    "        time.sleep(2) # Esperar 2 segundos a que cargue\n",
    "\n",
    "    except:\n",
    "        # Caso 2: El número NO existe\n",
    "        popup = driver.find_elements_by_xpath(\"//div[@class='_20C5O _2Zdgs']\")[-1]\n",
    "        popup.click()\n",
    "    "
   ]
  },
  {
   "cell_type": "code",
   "execution_count": null,
   "id": "133df7bf",
   "metadata": {},
   "outputs": [],
   "source": []
  },
  {
   "cell_type": "code",
   "execution_count": null,
   "id": "4c5e7856",
   "metadata": {},
   "outputs": [],
   "source": [
    "# Cerrar ventana de WhatsApp Web al terminar\n",
    "# driver.quit()"
   ]
  }
 ],
 "metadata": {
  "kernelspec": {
   "display_name": "Python 3 (ipykernel)",
   "language": "python",
   "name": "python3"
  },
  "language_info": {
   "codemirror_mode": {
    "name": "ipython",
    "version": 3
   },
   "file_extension": ".py",
   "mimetype": "text/x-python",
   "name": "python",
   "nbconvert_exporter": "python",
   "pygments_lexer": "ipython3",
   "version": "3.7.6"
  }
 },
 "nbformat": 4,
 "nbformat_minor": 5
}
