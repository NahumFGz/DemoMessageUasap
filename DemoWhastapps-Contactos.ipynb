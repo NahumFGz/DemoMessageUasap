{
 "cells": [
  {
   "cell_type": "code",
   "execution_count": 2,
   "id": "b3bc539b",
   "metadata": {},
   "outputs": [],
   "source": [
    "# Instalar Selenium\n",
    "#!pip install selenium"
   ]
  },
  {
   "cell_type": "code",
   "execution_count": 3,
   "id": "dfe149d9",
   "metadata": {},
   "outputs": [],
   "source": [
    "from selenium import webdriver\n",
    "from selenium.webdriver.support.ui import WebDriverWait\n",
    "from selenium.webdriver.support.ui import Select\n",
    "from selenium.webdriver.common.by import By\n",
    "from selenium.webdriver.common.keys import Keys\n",
    "from selenium.webdriver.chrome.options import Options\n",
    "import time\n",
    "\n",
    "import pandas as pd"
   ]
  },
  {
   "cell_type": "markdown",
   "id": "43f61352",
   "metadata": {},
   "source": [
    "### Descargar y ubicar Chrome Driver\n",
    "Se necesita descargar la última versión estable de ChromeDriver:\n",
    "<br>\n",
    "https://chromedriver.chromium.org/downloads\n",
    "<br>"
   ]
  },
  {
   "cell_type": "code",
   "execution_count": 18,
   "id": "f0b60aa8",
   "metadata": {},
   "outputs": [
    {
     "name": "stderr",
     "output_type": "stream",
     "text": [
      "H:\\GitHub\\DemoMessageUasap\\venv\\lib\\site-packages\\ipykernel_launcher.py:4: DeprecationWarning: executable_path has been deprecated, please pass in a Service object\n",
      "  after removing the cwd from sys.path.\n"
     ]
    },
    {
     "name": "stdout",
     "output_type": "stream",
     "text": [
      "Escanea el código QR y luego presiona 'Enter'\n",
      "\n",
      "Logueado!\n"
     ]
    }
   ],
   "source": [
    "# Entrar a la página de WhatsApp Web\n",
    "options = Options()\n",
    "options.add_argument(\"--disable-extensions\")\n",
    "driver = webdriver.Chrome(\"./chromedriver.exe\", options=options) # Especificar la ruta del Chrome Driver (en este caso está ubicado en la misma ruta del código)\n",
    "driver.get(\"https://web.whatsapp.com\") \n",
    "\n",
    "# Para escanear el código QR tienes que entrar a \n",
    "# \"Ajustes\" -> Ícono de QR (a la derecha de tu nombre) -> \"Escanear código\" -> \"Vincular dispositivo\"\n",
    "print(\"Escanea el código QR y luego presiona 'Enter'\")\n",
    "input()\n",
    "print(\"Logueado!\")"
   ]
  },
  {
   "cell_type": "code",
   "execution_count": 1,
   "id": "8836b531",
   "metadata": {},
   "outputs": [
    {
     "ename": "NameError",
     "evalue": "name 'pd' is not defined",
     "output_type": "error",
     "traceback": [
      "\u001b[1;31m---------------------------------------------------------------------------\u001b[0m",
      "\u001b[1;31mNameError\u001b[0m                                 Traceback (most recent call last)",
      "\u001b[1;32m~\\AppData\\Local\\Temp\\ipykernel_3564\\2898534916.py\u001b[0m in \u001b[0;36m<module>\u001b[1;34m\u001b[0m\n\u001b[0;32m      1\u001b[0m \u001b[1;31m# El archivo debe contener los números de teléfono y variables como su nombre, correo o lo que se considere pertinente en el mensaje\u001b[0m\u001b[1;33m\u001b[0m\u001b[1;33m\u001b[0m\u001b[1;33m\u001b[0m\u001b[0m\n\u001b[1;32m----> 2\u001b[1;33m \u001b[0mdata\u001b[0m \u001b[1;33m=\u001b[0m \u001b[0mpd\u001b[0m\u001b[1;33m.\u001b[0m\u001b[0mread_excel\u001b[0m\u001b[1;33m(\u001b[0m\u001b[1;34m'./Datos.xlsx'\u001b[0m\u001b[1;33m,\u001b[0m \u001b[0msheet_name\u001b[0m\u001b[1;33m=\u001b[0m\u001b[1;34m'Ventas'\u001b[0m\u001b[1;33m)\u001b[0m\u001b[1;33m\u001b[0m\u001b[1;33m\u001b[0m\u001b[0m\n\u001b[0m\u001b[0;32m      3\u001b[0m \u001b[0mdata\u001b[0m\u001b[1;33m\u001b[0m\u001b[1;33m\u001b[0m\u001b[0m\n\u001b[0;32m      4\u001b[0m \u001b[1;33m\u001b[0m\u001b[0m\n\u001b[0;32m      5\u001b[0m \u001b[1;31m# Note: Los números se cambiarán por prevención\u001b[0m\u001b[1;33m\u001b[0m\u001b[1;33m\u001b[0m\u001b[1;33m\u001b[0m\u001b[0m\n",
      "\u001b[1;31mNameError\u001b[0m: name 'pd' is not defined"
     ]
    }
   ],
   "source": [
    "# El archivo debe contener los números de teléfono y variables como su nombre, correo o lo que se considere pertinente en el mensaje\n",
    "data = pd.read_excel('./Datos.xlsx', sheet_name='Ventas')\n",
    "data\n",
    "\n",
    "# Note: Los números se cambiarán por prevención"
   ]
  },
  {
   "cell_type": "code",
   "execution_count": 20,
   "id": "6e08719c",
   "metadata": {},
   "outputs": [
    {
     "name": "stderr",
     "output_type": "stream",
     "text": [
      "H:\\GitHub\\DemoMessageUasap\\venv\\lib\\site-packages\\ipykernel_launcher.py:4: DeprecationWarning: find_element_by_* commands are deprecated. Please use find_element() instead\n",
      "  after removing the cwd from sys.path.\n",
      "H:\\GitHub\\DemoMessageUasap\\venv\\lib\\site-packages\\ipykernel_launcher.py:14: DeprecationWarning: find_elements_by_* commands are deprecated. Please use find_elements() instead\n",
      "  \n",
      "H:\\GitHub\\DemoMessageUasap\\venv\\lib\\site-packages\\ipykernel_launcher.py:34: DeprecationWarning: find_element_by_* commands are deprecated. Please use find_element() instead\n"
     ]
    },
    {
     "ename": "IndexError",
     "evalue": "list index out of range",
     "output_type": "error",
     "traceback": [
      "\u001b[1;31m---------------------------------------------------------------------------\u001b[0m",
      "\u001b[1;31mIndexError\u001b[0m                                Traceback (most recent call last)",
      "\u001b[1;32m~\\AppData\\Local\\Temp\\ipykernel_12016\\2559674841.py\u001b[0m in \u001b[0;36m<module>\u001b[1;34m\u001b[0m\n\u001b[0;32m     12\u001b[0m     \u001b[1;31m# Paso 6: Seleccionar el contacto\u001b[0m\u001b[1;33m\u001b[0m\u001b[1;33m\u001b[0m\u001b[1;33m\u001b[0m\u001b[0m\n\u001b[0;32m     13\u001b[0m \u001b[1;31m#    selected_contact = driver.find_element_by_xpath(\"//span[@class='_3q9s6']\")\u001b[0m\u001b[1;33m\u001b[0m\u001b[1;33m\u001b[0m\u001b[1;33m\u001b[0m\u001b[0m\n\u001b[1;32m---> 14\u001b[1;33m     \u001b[0mselected_contact\u001b[0m \u001b[1;33m=\u001b[0m \u001b[0mdriver\u001b[0m\u001b[1;33m.\u001b[0m\u001b[0mfind_elements_by_xpath\u001b[0m\u001b[1;33m(\u001b[0m\u001b[1;34m\"//div[@class='zoWT4']\"\u001b[0m\u001b[1;33m)\u001b[0m\u001b[1;33m[\u001b[0m\u001b[1;33m-\u001b[0m\u001b[1;36m1\u001b[0m\u001b[1;33m]\u001b[0m\u001b[1;33m\u001b[0m\u001b[1;33m\u001b[0m\u001b[0m\n\u001b[0m\u001b[0;32m     15\u001b[0m \u001b[1;31m#     selected_contact = driver.find_elements_by_xpath(\"//span[@class='ggj6brxn gfz4du6o r7fjleex g0rxnol2 lhj4utae le5p0ye3 l7jjieqr i0jNr']\")[-2]\u001b[0m\u001b[1;33m\u001b[0m\u001b[1;33m\u001b[0m\u001b[1;33m\u001b[0m\u001b[0m\n\u001b[0;32m     16\u001b[0m     \u001b[0mselected_contact\u001b[0m\u001b[1;33m.\u001b[0m\u001b[0mclick\u001b[0m\u001b[1;33m(\u001b[0m\u001b[1;33m)\u001b[0m\u001b[1;33m\u001b[0m\u001b[1;33m\u001b[0m\u001b[0m\n",
      "\u001b[1;31mIndexError\u001b[0m: list index out of range"
     ]
    }
   ],
   "source": [
    "for i in range(len(data)):\n",
    "    \n",
    "    # Paso 4: Ubicar la caja donde se buscan los nombres\n",
    "    search = driver.find_element_by_xpath(\"//div[@role='textbox']\")\n",
    "    search.clear()\n",
    "    \n",
    "    # Paso 5: Introducir el número en el buscador\n",
    "    contacto = data.loc[i, 'Número'].astype(str) # Convertir a string para que se añada al mensaje\n",
    "    search.send_keys(contacto)\n",
    "    time.sleep(2) # Esperar 2 segundos a que cargue\n",
    "    \n",
    "    # Paso 6: Seleccionar el contacto\n",
    "#    selected_contact = driver.find_element_by_xpath(\"//span[@class='_3q9s6']\")\n",
    "    selected_contact = driver.find_elements_by_xpath(\"//div[@class='zoWT4']\")[-1]\n",
    "#     selected_contact = driver.find_elements_by_xpath(\"//span[@class='ggj6brxn gfz4du6o r7fjleex g0rxnol2 lhj4utae le5p0ye3 l7jjieqr i0jNr']\")[-2]\n",
    "    selected_contact.click()\n",
    "    \n",
    "    # Paso 7: Formar el mensaje personalizado\n",
    "    persona = data.loc[i,'Sobrenombre']\n",
    "    importe = data.loc[i,'Importe'].astype(str) # Convertir a string para que se añada al mensaje\n",
    "    moneda = data.loc[i,'Moneda']\n",
    "    producto = data.loc[i,'Producto']\n",
    "    fecha = data.loc[i,'Fecha de compra'].strftime(\"%m/%d/%Y\") # Convertir a string para que se añada al mensaje\n",
    "    correo = data.loc[i,'Correo']\n",
    "\n",
    "    mensaje = (persona + \"!, gracias por tu compra de \" + importe + \" \" + moneda + \" en \" + producto + \" el día \" + fecha + \" \" + u'\\u263A' + \". \\n \" +\n",
    "              \"Te enviaremos el comprobante de pago a tu correo \" +  correo + \"!\") # Si quieres usar emoji, ten cuenta que\n",
    "                                                                                   # Chrome Driver solo utiliza caracteres BMP\n",
    "                                                                                   # Por ejemplo: 263A es ☺, 2764 es ❤, etc. \n",
    "                                                                                   # Encuentra más en https://codepoints.net/basic_multilingual_plane\n",
    "        \n",
    "    # Paso 8: Ubicar la caja en la que se digita el mensaje\n",
    "    inp_xpath = '//div[@title=\"Escribe un mensaje aquí\"]' \n",
    "    input_box = driver.find_element_by_xpath(inp_xpath)\n",
    "    time.sleep(2) # Esperar 2 segundos a que cargue\n",
    "    \n",
    "    # Paso 9: Enviar el mensaje\n",
    "    input_box.send_keys(mensaje + Keys.ENTER)\n",
    "    time.sleep(2) # Esperar 2 segundos a que cargue"
   ]
  },
  {
   "cell_type": "code",
   "execution_count": null,
   "id": "3bf63ab1",
   "metadata": {},
   "outputs": [],
   "source": [
    "# Cerrar ventana de WhatsApp Web al terminar\n",
    "# driver.quit()"
   ]
  }
 ],
 "metadata": {
  "kernelspec": {
   "display_name": "Python 3 (ipykernel)",
   "language": "python",
   "name": "python3"
  },
  "language_info": {
   "codemirror_mode": {
    "name": "ipython",
    "version": 3
   },
   "file_extension": ".py",
   "mimetype": "text/x-python",
   "name": "python",
   "nbconvert_exporter": "python",
   "pygments_lexer": "ipython3",
   "version": "3.7.6"
  }
 },
 "nbformat": 4,
 "nbformat_minor": 5
}
